{
 "cells": [
  {
   "cell_type": "code",
   "execution_count": 1,
   "metadata": {},
   "outputs": [],
   "source": [
    "import pandas as pd"
   ]
  },
  {
   "cell_type": "code",
   "execution_count": 2,
   "metadata": {},
   "outputs": [],
   "source": [
    "data = pd.read_csv('US_nn.csv')"
   ]
  },
  {
   "cell_type": "code",
   "execution_count": 17,
   "metadata": {},
   "outputs": [],
   "source": [
    "mean = data['profit'].mean()\n",
    "std = data['profit'].std()\n",
    "good_threshold = mean\n",
    "excellent_threshold = mean + std\n",
    "A24_good_threshold = data[data['is_A24']==1]['profit'].mean()\n",
    "A24_excellent_threshold = data[data['is_A24']==1]['profit'].mean() + data[data['is_A24']==1]['profit'].std()    \n",
    "def is_good(row):\n",
    "    if row['is_A24'] == 1:\n",
    "        if row['profit'] >= A24_good_threshold and row['profit'] < A24_excellent_threshold:\n",
    "            return 1\n",
    "        else:\n",
    "            return 0\n",
    "    else:\n",
    "        if row['profit'] >= good_threshold and row['profit'] < excellent_threshold:\n",
    "            return 1\n",
    "        else:\n",
    "            return 0\n",
    "def is_excellent(row):\n",
    "    if row['is_A24'] == 1:\n",
    "        if row['profit'] >= A24_excellent_threshold:\n",
    "            return 1\n",
    "        else:\n",
    "            return 0\n",
    "    else:\n",
    "        if row['profit'] >= excellent_threshold:\n",
    "            return 1\n",
    "        else:\n",
    "            return 0\n",
    "\n",
    "def is_poor(row):\n",
    "    if row['is_A24'] == 1:\n",
    "        if row['profit'] < A24_good_threshold:\n",
    "            return 1\n",
    "        else:\n",
    "            return 0\n",
    "    else:\n",
    "        if row['profit'] < good_threshold:\n",
    "            return 1\n",
    "        else:\n",
    "            return 0"
   ]
  },
  {
   "cell_type": "code",
   "execution_count": 18,
   "metadata": {},
   "outputs": [],
   "source": [
    "data['is_poor'] = pd.NA\n",
    "data['is_good'] = pd.NA\n",
    "data['is_excellent'] = pd.NA\n",
    "data['is_good'] = data.apply(is_good, axis=1)\n",
    "data['is_excellent'] = data.apply(is_excellent, axis=1)\n",
    "data['is_poor'] = data.apply(is_poor, axis=1)\n"
   ]
  },
  {
   "cell_type": "code",
   "execution_count": 26,
   "metadata": {},
   "outputs": [],
   "source": [
    "data.to_csv('US_nn_plus.csv', index=False)"
   ]
  }
 ],
 "metadata": {
  "kernelspec": {
   "display_name": "project2",
   "language": "python",
   "name": "python3"
  },
  "language_info": {
   "codemirror_mode": {
    "name": "ipython",
    "version": 3
   },
   "file_extension": ".py",
   "mimetype": "text/x-python",
   "name": "python",
   "nbconvert_exporter": "python",
   "pygments_lexer": "ipython3",
   "version": "3.11.4"
  }
 },
 "nbformat": 4,
 "nbformat_minor": 2
}
